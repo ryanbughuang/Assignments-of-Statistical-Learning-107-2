{
 "cells": [
  {
   "cell_type": "code",
   "execution_count": 1,
   "metadata": {},
   "outputs": [],
   "source": [
    "'''Q1-1:Creat a Python class named myknn_regressor that can do predictions given training data and hyper-parameters. It should take the k\n",
    "  as the hyper-parameter for the number of neighbors. Moreover, the user can select f by passing \"equal_weight\" or \"remove_outliers\" \n",
    "  to switch between the two possible cases for  f'''"
   ]
  },
  {
   "cell_type": "code",
   "execution_count": null,
   "metadata": {},
   "outputs": [],
   "source": [
    "import numpy as np\n",
    "class myknn_regressor:\n",
    "    def __init__(self, k, method):\n",
    "        self.k = k\n",
    "        self.method = method\n",
    "\n",
    "    def fit(self, X_train, Y_train):\n",
    "        self.X_train = X_train\n",
    "        self.Y_train = Y_train\n",
    "\n",
    "    def predict(self, X_test):\n",
    "        def dist(x_test, x_train):\n",
    "            return ((x_train - x_test) ** 2).sum(axis=1) ** 0.5\n",
    "        prediction = []\n",
    "        if (self.method == 'remove_outliers') & (self.k >= 10):\n",
    "            for x in X_test:\n",
    "                y_index = np.argpartition(dist(x, self.X_train), self.k)[:self.k]\n",
    "                y_list = self.Y_train[y_index]\n",
    "                q1, q3 = np.percentile(y_list, [25, 75])\n",
    "                iqr = q3 - q1\n",
    "                predict_y = y_list[(y_list >= q1 - 1.5 * iqr) & (y_list <= q3 + 1.5 * iqr)].mean()\n",
    "                prediction.append(predict_y)\n",
    "\n",
    "        else:\n",
    "            for x in X_test:\n",
    "                y_index = np.argpartition(dist(x, self.X_train), self.k)[:self.k]\n",
    "                predict_y = self.Y_train[y_index].mean()\n",
    "                prediction.append(predict_y)\n",
    "\n",
    "        return np.array(prediction)"
   ]
  },
  {
   "cell_type": "code",
   "execution_count": null,
   "metadata": {},
   "outputs": [],
   "source": [
    "'''Q1_2\n",
    "Load data from msd_data1.pickle. \n",
    "Then, standardized all feature values so that all features have a zero mean and a unit variance before training a KNN model.\n",
    "Make predictions using  k=20 and \"equal_weight\". \n",
    "List the RMSE and the first 20 predictions in the testing data'''"
   ]
  },
  {
   "cell_type": "code",
   "execution_count": null,
   "metadata": {},
   "outputs": [],
   "source": []
  },
  {
   "cell_type": "code",
   "execution_count": null,
   "metadata": {},
   "outputs": [],
   "source": [
    "import pickle\n",
    "import math\n",
    "file_path = '/Users/ryanhuang/Desktop/107-2/statistical learning/week1/question/msd_data1.pickle'\n",
    "fh = open(file_path, 'rb')\n",
    "data = pickle.load(fh)\n",
    "def RMSE(predict_value, actual_value):\n",
    "    return math.sqrt(sum((predict_value - actual_value) ** 2))"
   ]
  },
  {
   "cell_type": "code",
   "execution_count": null,
   "metadata": {},
   "outputs": [],
   "source": [
    "myknn = myknn_regressor(20, \"equal_weight\")\n",
    "myknn.fit(data['X_train'],data['Y_train'] )\n",
    "y_pred = myknn.predict(data['X_test'][:20])\n",
    "y_actual = data['Y_test'][:20]\n",
    "print('RMSE =',RMSE(y_pred,y_actual),'\\nPredictions =',y_pred)"
   ]
  },
  {
   "cell_type": "code",
   "execution_count": null,
   "metadata": {},
   "outputs": [],
   "source": [
    "'''Q1_3 \n",
    "Load data from msd_data1.pickle. \n",
    "Standardized all feature values so that all features have a zero mean and unit variance. \n",
    "Make predictions using k=20 and \"remove_outier\". \n",
    "List the RMSE and the first 20 predictions in the testing data.'''\n"
   ]
  },
  {
   "cell_type": "code",
   "execution_count": null,
   "metadata": {},
   "outputs": [],
   "source": [
    "std_x_train = (data['X_train'] - data['X_train'].mean())/data['X_train'].std()\n",
    "std_y_train = (data['Y_train'] - data['Y_train'].mean())/data['Y_train'].std()\n",
    "std_x_test = (data['X_test'] - data['X_test'].mean())/data['X_test'].std()\n",
    "myknn_2 = myknn_regressor(20, \"remove_outliers\")\n",
    "myknn_2.fit(std_x_train,std_y_train)\n",
    "y_pred_2 = myknn_2.predict(std_x_test[:20]) * data['Y_train'].std() + data['Y_train'].mean()\n",
    "y_actual_2 = data['Y_test'][:20]\n",
    "print('RMSE =',RMSE(y_pred_2,y_actual_2),'\\nPredictions =',y_pred_2)"
   ]
  },
  {
   "cell_type": "code",
   "execution_count": null,
   "metadata": {},
   "outputs": [],
   "source": [
    "'''\n",
    "Compute the RMSE on the testing dataset under 3 cases using k=1,2,3,4,5,10,15,20,25,30,35,40,45,50,55,60,80,100,120,140,160,180,200. \n",
    "In the first case, all feature values are standardize to have unit variances and zero means. \n",
    "In the second case, do not apply feature scaling. \n",
    "In the third case use standardized feature and adopted myknn_regressor with \"remove_outlier\" to make prediction.\n",
    "'''"
   ]
  },
  {
   "cell_type": "code",
   "execution_count": null,
   "metadata": {},
   "outputs": [],
   "source": [
    "case1_summary = []\n",
    "for k in k_list:\n",
    "    knn_case1 = KNeighborsRegressor(n_neighbors=k)\n",
    "    knn_case1.fit(std_x_train,std_y_train)\n",
    "    y_pred = knn_case1.predict(std_x_test) * data['Y_train'].std() + data['Y_train'].mean()\n",
    "    case1_summary.append((k, RMSE(y_pred, data['Y_test'])))\n",
    "\n",
    "case2_summary = []\n",
    "for k in k_list:\n",
    "    knn_case2 = KNeighborsRegressor(n_neighbors=k)\n",
    "    knn_case2.fit(data['X_train'],data['Y_train'])\n",
    "    y_pred = knn_case2.predict(data['X_test'])\n",
    "    case2_summary.append((k, RMSE(y_pred, data['Y_test'])))\n",
    "\n",
    "case3_summary = []\n",
    "for k in k_list:\n",
    "    knn_case3 = myknn_regressor(k,'remove_outlier')\n",
    "    knn_case3.fit(std_x_train, std_y_train)\n",
    "    y_pred = knn_case3.predict(std_x_test) * data['Y_train'].std() + data['Y_train'].mean()\n",
    "    case3_summary.append((k, RMSE(y_pred, data['Y_test'])))"
   ]
  },
  {
   "cell_type": "code",
   "execution_count": null,
   "metadata": {},
   "outputs": [],
   "source": [
    "'''plot a curve that shows the relations between k\n",
    "  (x-axis) and RMSE (y-axis)'''"
   ]
  },
  {
   "cell_type": "code",
   "execution_count": null,
   "metadata": {},
   "outputs": [],
   "source": [
    "import matplotlib.pyplot as plt\n",
    "rmse_list_1 = [pair[1] for pair in case1_summary]\n",
    "rmse_list_2 = [pair[1] for pair in case2_summary]\n",
    "rmse_list_3 = [pair[1] for pair in case3_summary]\n",
    "plt.plot(k_list,rmse_list_1)\n",
    "plt.plot(k_list,rmse_list_2)\n",
    "plt.plot(k_list,rmse_list_3)\n",
    "plt.xlabel('Value of K')\n",
    "plt.ylabel('RMSE')\n",
    "plt.show()"
   ]
  }
 ],
 "metadata": {
  "kernelspec": {
   "display_name": "Python 3",
   "language": "python",
   "name": "python3"
  },
  "language_info": {
   "codemirror_mode": {
    "name": "ipython",
    "version": 3
   },
   "file_extension": ".py",
   "mimetype": "text/x-python",
   "name": "python",
   "nbconvert_exporter": "python",
   "pygments_lexer": "ipython3",
   "version": "3.6.8"
  }
 },
 "nbformat": 4,
 "nbformat_minor": 2
}
