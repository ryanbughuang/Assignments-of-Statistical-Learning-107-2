{
 "cells": [
  {
   "cell_type": "code",
   "execution_count": 1,
   "metadata": {},
   "outputs": [],
   "source": [
    "%matplotlib inline\n",
    "import matplotlib.pyplot as plt\n",
    "plt.rcParams['figure.dpi'] =120\n",
    "from datetime import datetime\n",
    "import pandas as pd\n",
    "import numpy as np"
   ]
  },
  {
   "cell_type": "markdown",
   "metadata": {},
   "source": [
    "Import Data"
   ]
  },
  {
   "cell_type": "code",
   "execution_count": 2,
   "metadata": {},
   "outputs": [],
   "source": [
    "dep2train = pd.read_csv('data/dep2train.csv')\n",
    "dep2test = pd.read_csv('data/dep2test.csv')\n",
    "dep2train['date'] = pd.to_datetime(dep2train['date'])\n",
    "dep2train['fold'] = 'train'\n",
    "dep2test['date'] = pd.to_datetime(dep2test['date'])\n",
    "dep2test['fold'] = 'test'"
   ]
  },
  {
   "cell_type": "code",
   "execution_count": 44,
   "metadata": {},
   "outputs": [
    {
     "data": {
      "text/html": [
       "<div>\n",
       "<style scoped>\n",
       "    .dataframe tbody tr th:only-of-type {\n",
       "        vertical-align: middle;\n",
       "    }\n",
       "\n",
       "    .dataframe tbody tr th {\n",
       "        vertical-align: top;\n",
       "    }\n",
       "\n",
       "    .dataframe thead th {\n",
       "        text-align: right;\n",
       "    }\n",
       "</style>\n",
       "<table border=\"1\" class=\"dataframe\">\n",
       "  <thead>\n",
       "    <tr style=\"text-align: right;\">\n",
       "      <th></th>\n",
       "      <th>date</th>\n",
       "      <th>weeklySales</th>\n",
       "      <th>fold</th>\n",
       "      <th>WofY</th>\n",
       "    </tr>\n",
       "  </thead>\n",
       "  <tbody>\n",
       "    <tr>\n",
       "      <th>0</th>\n",
       "      <td>2010-02-05</td>\n",
       "      <td>123952.48</td>\n",
       "      <td>train</td>\n",
       "      <td>5</td>\n",
       "    </tr>\n",
       "    <tr>\n",
       "      <th>1</th>\n",
       "      <td>2010-02-12</td>\n",
       "      <td>119209.48</td>\n",
       "      <td>train</td>\n",
       "      <td>6</td>\n",
       "    </tr>\n",
       "    <tr>\n",
       "      <th>2</th>\n",
       "      <td>2010-02-19</td>\n",
       "      <td>121430.80</td>\n",
       "      <td>train</td>\n",
       "      <td>7</td>\n",
       "    </tr>\n",
       "    <tr>\n",
       "      <th>3</th>\n",
       "      <td>2010-02-26</td>\n",
       "      <td>120292.15</td>\n",
       "      <td>train</td>\n",
       "      <td>8</td>\n",
       "    </tr>\n",
       "    <tr>\n",
       "      <th>4</th>\n",
       "      <td>2010-03-05</td>\n",
       "      <td>113163.91</td>\n",
       "      <td>train</td>\n",
       "      <td>9</td>\n",
       "    </tr>\n",
       "    <tr>\n",
       "      <th>5</th>\n",
       "      <td>2010-03-12</td>\n",
       "      <td>116637.87</td>\n",
       "      <td>train</td>\n",
       "      <td>10</td>\n",
       "    </tr>\n",
       "    <tr>\n",
       "      <th>6</th>\n",
       "      <td>2010-03-19</td>\n",
       "      <td>112732.09</td>\n",
       "      <td>train</td>\n",
       "      <td>11</td>\n",
       "    </tr>\n",
       "    <tr>\n",
       "      <th>7</th>\n",
       "      <td>2010-03-26</td>\n",
       "      <td>110240.07</td>\n",
       "      <td>train</td>\n",
       "      <td>12</td>\n",
       "    </tr>\n",
       "    <tr>\n",
       "      <th>8</th>\n",
       "      <td>2010-04-02</td>\n",
       "      <td>118392.02</td>\n",
       "      <td>train</td>\n",
       "      <td>13</td>\n",
       "    </tr>\n",
       "    <tr>\n",
       "      <th>9</th>\n",
       "      <td>2010-04-09</td>\n",
       "      <td>115461.31</td>\n",
       "      <td>train</td>\n",
       "      <td>14</td>\n",
       "    </tr>\n",
       "    <tr>\n",
       "      <th>10</th>\n",
       "      <td>2010-04-16</td>\n",
       "      <td>111207.71</td>\n",
       "      <td>train</td>\n",
       "      <td>15</td>\n",
       "    </tr>\n",
       "    <tr>\n",
       "      <th>11</th>\n",
       "      <td>2010-04-23</td>\n",
       "      <td>111749.11</td>\n",
       "      <td>train</td>\n",
       "      <td>16</td>\n",
       "    </tr>\n",
       "    <tr>\n",
       "      <th>12</th>\n",
       "      <td>2010-04-30</td>\n",
       "      <td>108130.12</td>\n",
       "      <td>train</td>\n",
       "      <td>17</td>\n",
       "    </tr>\n",
       "    <tr>\n",
       "      <th>13</th>\n",
       "      <td>2010-05-07</td>\n",
       "      <td>112995.06</td>\n",
       "      <td>train</td>\n",
       "      <td>18</td>\n",
       "    </tr>\n",
       "    <tr>\n",
       "      <th>14</th>\n",
       "      <td>2010-05-14</td>\n",
       "      <td>108114.87</td>\n",
       "      <td>train</td>\n",
       "      <td>19</td>\n",
       "    </tr>\n",
       "    <tr>\n",
       "      <th>15</th>\n",
       "      <td>2010-05-21</td>\n",
       "      <td>114437.04</td>\n",
       "      <td>train</td>\n",
       "      <td>20</td>\n",
       "    </tr>\n",
       "    <tr>\n",
       "      <th>16</th>\n",
       "      <td>2010-05-28</td>\n",
       "      <td>111234.67</td>\n",
       "      <td>train</td>\n",
       "      <td>21</td>\n",
       "    </tr>\n",
       "    <tr>\n",
       "      <th>17</th>\n",
       "      <td>2010-06-04</td>\n",
       "      <td>112630.91</td>\n",
       "      <td>train</td>\n",
       "      <td>22</td>\n",
       "    </tr>\n",
       "    <tr>\n",
       "      <th>18</th>\n",
       "      <td>2010-06-11</td>\n",
       "      <td>112481.79</td>\n",
       "      <td>train</td>\n",
       "      <td>23</td>\n",
       "    </tr>\n",
       "    <tr>\n",
       "      <th>19</th>\n",
       "      <td>2010-06-18</td>\n",
       "      <td>112540.37</td>\n",
       "      <td>train</td>\n",
       "      <td>24</td>\n",
       "    </tr>\n",
       "    <tr>\n",
       "      <th>20</th>\n",
       "      <td>2010-06-25</td>\n",
       "      <td>108485.17</td>\n",
       "      <td>train</td>\n",
       "      <td>25</td>\n",
       "    </tr>\n",
       "    <tr>\n",
       "      <th>21</th>\n",
       "      <td>2010-07-02</td>\n",
       "      <td>115484.56</td>\n",
       "      <td>train</td>\n",
       "      <td>26</td>\n",
       "    </tr>\n",
       "    <tr>\n",
       "      <th>22</th>\n",
       "      <td>2010-07-09</td>\n",
       "      <td>112082.34</td>\n",
       "      <td>train</td>\n",
       "      <td>27</td>\n",
       "    </tr>\n",
       "    <tr>\n",
       "      <th>23</th>\n",
       "      <td>2010-07-16</td>\n",
       "      <td>117063.04</td>\n",
       "      <td>train</td>\n",
       "      <td>28</td>\n",
       "    </tr>\n",
       "    <tr>\n",
       "      <th>24</th>\n",
       "      <td>2010-07-23</td>\n",
       "      <td>117187.48</td>\n",
       "      <td>train</td>\n",
       "      <td>29</td>\n",
       "    </tr>\n",
       "    <tr>\n",
       "      <th>25</th>\n",
       "      <td>2010-07-30</td>\n",
       "      <td>112992.94</td>\n",
       "      <td>train</td>\n",
       "      <td>30</td>\n",
       "    </tr>\n",
       "    <tr>\n",
       "      <th>26</th>\n",
       "      <td>2010-08-06</td>\n",
       "      <td>123356.64</td>\n",
       "      <td>train</td>\n",
       "      <td>31</td>\n",
       "    </tr>\n",
       "    <tr>\n",
       "      <th>27</th>\n",
       "      <td>2010-08-13</td>\n",
       "      <td>124582.42</td>\n",
       "      <td>train</td>\n",
       "      <td>32</td>\n",
       "    </tr>\n",
       "    <tr>\n",
       "      <th>28</th>\n",
       "      <td>2010-08-20</td>\n",
       "      <td>128218.22</td>\n",
       "      <td>train</td>\n",
       "      <td>33</td>\n",
       "    </tr>\n",
       "    <tr>\n",
       "      <th>29</th>\n",
       "      <td>2010-08-27</td>\n",
       "      <td>113329.60</td>\n",
       "      <td>train</td>\n",
       "      <td>34</td>\n",
       "    </tr>\n",
       "    <tr>\n",
       "      <th>...</th>\n",
       "      <td>...</td>\n",
       "      <td>...</td>\n",
       "      <td>...</td>\n",
       "      <td>...</td>\n",
       "    </tr>\n",
       "    <tr>\n",
       "      <th>61</th>\n",
       "      <td>2011-04-08</td>\n",
       "      <td>113611.20</td>\n",
       "      <td>train</td>\n",
       "      <td>14</td>\n",
       "    </tr>\n",
       "    <tr>\n",
       "      <th>62</th>\n",
       "      <td>2011-04-15</td>\n",
       "      <td>107360.49</td>\n",
       "      <td>train</td>\n",
       "      <td>15</td>\n",
       "    </tr>\n",
       "    <tr>\n",
       "      <th>63</th>\n",
       "      <td>2011-04-22</td>\n",
       "      <td>113300.27</td>\n",
       "      <td>train</td>\n",
       "      <td>16</td>\n",
       "    </tr>\n",
       "    <tr>\n",
       "      <th>64</th>\n",
       "      <td>2011-04-29</td>\n",
       "      <td>109687.51</td>\n",
       "      <td>train</td>\n",
       "      <td>17</td>\n",
       "    </tr>\n",
       "    <tr>\n",
       "      <th>65</th>\n",
       "      <td>2011-05-06</td>\n",
       "      <td>113071.51</td>\n",
       "      <td>train</td>\n",
       "      <td>18</td>\n",
       "    </tr>\n",
       "    <tr>\n",
       "      <th>66</th>\n",
       "      <td>2011-05-13</td>\n",
       "      <td>104586.80</td>\n",
       "      <td>train</td>\n",
       "      <td>19</td>\n",
       "    </tr>\n",
       "    <tr>\n",
       "      <th>67</th>\n",
       "      <td>2011-05-20</td>\n",
       "      <td>103643.01</td>\n",
       "      <td>train</td>\n",
       "      <td>20</td>\n",
       "    </tr>\n",
       "    <tr>\n",
       "      <th>68</th>\n",
       "      <td>2011-05-27</td>\n",
       "      <td>104625.35</td>\n",
       "      <td>train</td>\n",
       "      <td>21</td>\n",
       "    </tr>\n",
       "    <tr>\n",
       "      <th>69</th>\n",
       "      <td>2011-06-03</td>\n",
       "      <td>113179.62</td>\n",
       "      <td>train</td>\n",
       "      <td>22</td>\n",
       "    </tr>\n",
       "    <tr>\n",
       "      <th>70</th>\n",
       "      <td>2011-06-10</td>\n",
       "      <td>110607.72</td>\n",
       "      <td>train</td>\n",
       "      <td>23</td>\n",
       "    </tr>\n",
       "    <tr>\n",
       "      <th>71</th>\n",
       "      <td>2011-06-17</td>\n",
       "      <td>111144.59</td>\n",
       "      <td>train</td>\n",
       "      <td>24</td>\n",
       "    </tr>\n",
       "    <tr>\n",
       "      <th>72</th>\n",
       "      <td>2011-06-24</td>\n",
       "      <td>106159.42</td>\n",
       "      <td>train</td>\n",
       "      <td>25</td>\n",
       "    </tr>\n",
       "    <tr>\n",
       "      <th>73</th>\n",
       "      <td>2011-07-01</td>\n",
       "      <td>110167.18</td>\n",
       "      <td>train</td>\n",
       "      <td>26</td>\n",
       "    </tr>\n",
       "    <tr>\n",
       "      <th>74</th>\n",
       "      <td>2011-07-08</td>\n",
       "      <td>105317.31</td>\n",
       "      <td>train</td>\n",
       "      <td>27</td>\n",
       "    </tr>\n",
       "    <tr>\n",
       "      <th>75</th>\n",
       "      <td>2011-07-15</td>\n",
       "      <td>110918.73</td>\n",
       "      <td>train</td>\n",
       "      <td>28</td>\n",
       "    </tr>\n",
       "    <tr>\n",
       "      <th>76</th>\n",
       "      <td>2011-07-22</td>\n",
       "      <td>112528.57</td>\n",
       "      <td>train</td>\n",
       "      <td>29</td>\n",
       "    </tr>\n",
       "    <tr>\n",
       "      <th>77</th>\n",
       "      <td>2011-07-29</td>\n",
       "      <td>110240.21</td>\n",
       "      <td>train</td>\n",
       "      <td>30</td>\n",
       "    </tr>\n",
       "    <tr>\n",
       "      <th>78</th>\n",
       "      <td>2011-08-05</td>\n",
       "      <td>115116.44</td>\n",
       "      <td>train</td>\n",
       "      <td>31</td>\n",
       "    </tr>\n",
       "    <tr>\n",
       "      <th>79</th>\n",
       "      <td>2011-08-12</td>\n",
       "      <td>116330.25</td>\n",
       "      <td>train</td>\n",
       "      <td>32</td>\n",
       "    </tr>\n",
       "    <tr>\n",
       "      <th>80</th>\n",
       "      <td>2011-08-19</td>\n",
       "      <td>119858.79</td>\n",
       "      <td>train</td>\n",
       "      <td>33</td>\n",
       "    </tr>\n",
       "    <tr>\n",
       "      <th>81</th>\n",
       "      <td>2011-08-26</td>\n",
       "      <td>106724.02</td>\n",
       "      <td>train</td>\n",
       "      <td>34</td>\n",
       "    </tr>\n",
       "    <tr>\n",
       "      <th>82</th>\n",
       "      <td>2011-09-02</td>\n",
       "      <td>108981.34</td>\n",
       "      <td>train</td>\n",
       "      <td>35</td>\n",
       "    </tr>\n",
       "    <tr>\n",
       "      <th>83</th>\n",
       "      <td>2011-09-09</td>\n",
       "      <td>106874.02</td>\n",
       "      <td>train</td>\n",
       "      <td>36</td>\n",
       "    </tr>\n",
       "    <tr>\n",
       "      <th>84</th>\n",
       "      <td>2011-09-16</td>\n",
       "      <td>104742.41</td>\n",
       "      <td>train</td>\n",
       "      <td>37</td>\n",
       "    </tr>\n",
       "    <tr>\n",
       "      <th>85</th>\n",
       "      <td>2011-09-23</td>\n",
       "      <td>104948.33</td>\n",
       "      <td>train</td>\n",
       "      <td>38</td>\n",
       "    </tr>\n",
       "    <tr>\n",
       "      <th>86</th>\n",
       "      <td>2011-09-30</td>\n",
       "      <td>102264.22</td>\n",
       "      <td>train</td>\n",
       "      <td>39</td>\n",
       "    </tr>\n",
       "    <tr>\n",
       "      <th>87</th>\n",
       "      <td>2011-10-07</td>\n",
       "      <td>111280.17</td>\n",
       "      <td>train</td>\n",
       "      <td>40</td>\n",
       "    </tr>\n",
       "    <tr>\n",
       "      <th>88</th>\n",
       "      <td>2011-10-14</td>\n",
       "      <td>99815.15</td>\n",
       "      <td>train</td>\n",
       "      <td>41</td>\n",
       "    </tr>\n",
       "    <tr>\n",
       "      <th>89</th>\n",
       "      <td>2011-10-21</td>\n",
       "      <td>103050.10</td>\n",
       "      <td>train</td>\n",
       "      <td>42</td>\n",
       "    </tr>\n",
       "    <tr>\n",
       "      <th>90</th>\n",
       "      <td>2011-10-28</td>\n",
       "      <td>102097.86</td>\n",
       "      <td>train</td>\n",
       "      <td>43</td>\n",
       "    </tr>\n",
       "  </tbody>\n",
       "</table>\n",
       "<p>91 rows × 4 columns</p>\n",
       "</div>"
      ],
      "text/plain": [
       "         date  weeklySales   fold  WofY\n",
       "0  2010-02-05    123952.48  train     5\n",
       "1  2010-02-12    119209.48  train     6\n",
       "2  2010-02-19    121430.80  train     7\n",
       "3  2010-02-26    120292.15  train     8\n",
       "4  2010-03-05    113163.91  train     9\n",
       "5  2010-03-12    116637.87  train    10\n",
       "6  2010-03-19    112732.09  train    11\n",
       "7  2010-03-26    110240.07  train    12\n",
       "8  2010-04-02    118392.02  train    13\n",
       "9  2010-04-09    115461.31  train    14\n",
       "10 2010-04-16    111207.71  train    15\n",
       "11 2010-04-23    111749.11  train    16\n",
       "12 2010-04-30    108130.12  train    17\n",
       "13 2010-05-07    112995.06  train    18\n",
       "14 2010-05-14    108114.87  train    19\n",
       "15 2010-05-21    114437.04  train    20\n",
       "16 2010-05-28    111234.67  train    21\n",
       "17 2010-06-04    112630.91  train    22\n",
       "18 2010-06-11    112481.79  train    23\n",
       "19 2010-06-18    112540.37  train    24\n",
       "20 2010-06-25    108485.17  train    25\n",
       "21 2010-07-02    115484.56  train    26\n",
       "22 2010-07-09    112082.34  train    27\n",
       "23 2010-07-16    117063.04  train    28\n",
       "24 2010-07-23    117187.48  train    29\n",
       "25 2010-07-30    112992.94  train    30\n",
       "26 2010-08-06    123356.64  train    31\n",
       "27 2010-08-13    124582.42  train    32\n",
       "28 2010-08-20    128218.22  train    33\n",
       "29 2010-08-27    113329.60  train    34\n",
       "..        ...          ...    ...   ...\n",
       "61 2011-04-08    113611.20  train    14\n",
       "62 2011-04-15    107360.49  train    15\n",
       "63 2011-04-22    113300.27  train    16\n",
       "64 2011-04-29    109687.51  train    17\n",
       "65 2011-05-06    113071.51  train    18\n",
       "66 2011-05-13    104586.80  train    19\n",
       "67 2011-05-20    103643.01  train    20\n",
       "68 2011-05-27    104625.35  train    21\n",
       "69 2011-06-03    113179.62  train    22\n",
       "70 2011-06-10    110607.72  train    23\n",
       "71 2011-06-17    111144.59  train    24\n",
       "72 2011-06-24    106159.42  train    25\n",
       "73 2011-07-01    110167.18  train    26\n",
       "74 2011-07-08    105317.31  train    27\n",
       "75 2011-07-15    110918.73  train    28\n",
       "76 2011-07-22    112528.57  train    29\n",
       "77 2011-07-29    110240.21  train    30\n",
       "78 2011-08-05    115116.44  train    31\n",
       "79 2011-08-12    116330.25  train    32\n",
       "80 2011-08-19    119858.79  train    33\n",
       "81 2011-08-26    106724.02  train    34\n",
       "82 2011-09-02    108981.34  train    35\n",
       "83 2011-09-09    106874.02  train    36\n",
       "84 2011-09-16    104742.41  train    37\n",
       "85 2011-09-23    104948.33  train    38\n",
       "86 2011-09-30    102264.22  train    39\n",
       "87 2011-10-07    111280.17  train    40\n",
       "88 2011-10-14     99815.15  train    41\n",
       "89 2011-10-21    103050.10  train    42\n",
       "90 2011-10-28    102097.86  train    43\n",
       "\n",
       "[91 rows x 4 columns]"
      ]
     },
     "execution_count": 44,
     "metadata": {},
     "output_type": "execute_result"
    }
   ],
   "source": [
    "dep2train"
   ]
  },
  {
   "cell_type": "markdown",
   "metadata": {},
   "source": [
    "Define MAPE Function"
   ]
  },
  {
   "cell_type": "code",
   "execution_count": 3,
   "metadata": {},
   "outputs": [],
   "source": [
    "def MAPE(y_true, y_pred): \n",
    "    y_true, y_pred = np.array(y_true), np.array(y_pred)\n",
    "    return np.mean(np.abs((y_true - y_pred) / y_true)) * 100"
   ]
  },
  {
   "cell_type": "markdown",
   "metadata": {},
   "source": [
    "# Question 1 [Baseline]\n",
    "Using similar \"week of year\" as prediction"
   ]
  },
  {
   "cell_type": "code",
   "execution_count": 4,
   "metadata": {},
   "outputs": [],
   "source": [
    "train_1 = dep2train\n",
    "train_1['WofY'] = train_1['date'].apply(lambda x: x.isocalendar()[1])\n",
    "test_1 = dep2test\n",
    "test_1['WofY'] = test_1['date'].apply(lambda x: x.isocalendar()[1])"
   ]
  },
  {
   "cell_type": "code",
   "execution_count": 5,
   "metadata": {},
   "outputs": [],
   "source": [
    "pred_1 = train_1.groupby(['WofY']).mean().reset_index()\n",
    "pred_1.rename({'weeklySales':'Pred_Sales'}, axis=1, inplace=True)\n",
    "test_1 = test_1.merge(pred_1, how='left', on=['WofY'])"
   ]
  },
  {
   "cell_type": "code",
   "execution_count": null,
   "metadata": {},
   "outputs": [],
   "source": [
    "train_1.head(60)"
   ]
  },
  {
   "cell_type": "code",
   "execution_count": 6,
   "metadata": {},
   "outputs": [
    {
     "name": "stdout",
     "output_type": "stream",
     "text": [
      "MAPE of method 1 is 4.36\n"
     ]
    }
   ],
   "source": [
    "print(\"MAPE of method 1 is {:.2f}\".format(MAPE(test_1.weeklySales, test_1.Pred_Sales)))"
   ]
  },
  {
   "cell_type": "markdown",
   "metadata": {},
   "source": [
    "Plotting the prediction result"
   ]
  },
  {
   "cell_type": "code",
   "execution_count": 39,
   "metadata": {},
   "outputs": [
    {
     "data": {
      "text/plain": [
       "<matplotlib.axes._subplots.AxesSubplot at 0x1a21b6c240>"
      ]
     },
     "execution_count": 39,
     "metadata": {},
     "output_type": "execute_result"
    },
    {
     "data": {
      "image/png": "[encoded data removed]",
      "text/plain": [
       "<Figure size 432x288 with 1 Axes>"
      ]
     },
     "metadata": {
      "needs_background": "light"
     },
     "output_type": "display_data"
    }
   ],
   "source": [
    "ax = test_1.plot(y = 'weeklySales', x = 'date', label = 'test data')\n",
    "test_1.plot(y = 'Pred_Sales', x = 'date', label = 'pred result',ax=ax)"
   ]
  },
  {
   "cell_type": "markdown",
   "metadata": {},
   "source": [
    "# Question 2 [Random Forest]\n",
    "* Q2.1 (15%) $y_t = f(y_{t-1}, y_{t-2}, y_{t-3}, y_{t-4})$. \n",
    "* Q2.2 (15%) $y_t = f(y_{t-1}, y_{t-2}, y_{t-3}, y_{t-4}, y_{t-52})$. "
   ]
  },
  {
   "cell_type": "code",
   "execution_count": 8,
   "metadata": {},
   "outputs": [],
   "source": [
    "from sklearn.ensemble import RandomForestRegressor"
   ]
  },
  {
   "cell_type": "markdown",
   "metadata": {},
   "source": [
    "Create columns of $y_{t-1}, y_{t-2}, y_{t-3}, y_{t-4}, y_{t-52}$"
   ]
  },
  {
   "cell_type": "code",
   "execution_count": 9,
   "metadata": {},
   "outputs": [],
   "source": [
    "full_data = pd.concat([dep2train,dep2test]).reset_index(drop=True)\n",
    "full_data['t-1'] = full_data['weeklySales'].shift(periods= 1)\n",
    "full_data['t-2'] = full_data['weeklySales'].shift(periods= 2)\n",
    "full_data['t-3'] = full_data['weeklySales'].shift(periods= 3)\n",
    "full_data['t-4'] = full_data['weeklySales'].shift(periods= 4)\n",
    "full_data['t-52'] = full_data['weeklySales'].shift(periods= 52)"
   ]
  },
  {
   "cell_type": "markdown",
   "metadata": {},
   "source": [
    "## Method 2-1"
   ]
  },
  {
   "cell_type": "code",
   "execution_count": 10,
   "metadata": {},
   "outputs": [],
   "source": [
    "train_2_1 = full_data.loc[full_data.fold == 'train', :].iloc[:,:-1]\n",
    "train_2_1_x = train_2_1.iloc[:,-4:]\n",
    "train_2_1_y = train_2_1.iloc[:,1]"
   ]
  },
  {
   "cell_type": "code",
   "execution_count": 11,
   "metadata": {},
   "outputs": [
    {
     "data": {
      "text/plain": [
       "RandomForestRegressor(bootstrap=True, criterion='mse', max_depth=2,\n",
       "           max_features='auto', max_leaf_nodes=None,\n",
       "           min_impurity_decrease=0.0, min_impurity_split=None,\n",
       "           min_samples_leaf=1, min_samples_split=2,\n",
       "           min_weight_fraction_leaf=0.0, n_estimators=100, n_jobs=None,\n",
       "           oob_score=False, random_state=0, verbose=0, warm_start=False)"
      ]
     },
     "execution_count": 11,
     "metadata": {},
     "output_type": "execute_result"
    }
   ],
   "source": [
    "q2_1 = RandomForestRegressor(max_depth=2, random_state=0,\n",
    "                             n_estimators=100)\n",
    "q2_1.fit(train_2_1_x.dropna(),train_2_1_y.iloc[4:,])"
   ]
  },
  {
   "cell_type": "code",
   "execution_count": 12,
   "metadata": {},
   "outputs": [],
   "source": [
    "test_2_1 = full_data.loc[full_data.fold == 'test', :].iloc[:,:-1]\n",
    "test_2_1['RF1_Pred'] = q2_1.predict(test_2_1.iloc[:,-4:])"
   ]
  },
  {
   "cell_type": "code",
   "execution_count": 13,
   "metadata": {},
   "outputs": [
    {
     "name": "stdout",
     "output_type": "stream",
     "text": [
      "MAPE of method 2-1 is 5.94\n"
     ]
    }
   ],
   "source": [
    "print(\"MAPE of method 2-1 is {:.2f}\".format(MAPE(test_2_1.weeklySales, test_2_1.RF1_Pred)))"
   ]
  },
  {
   "cell_type": "code",
   "execution_count": 14,
   "metadata": {},
   "outputs": [
    {
     "data": {
      "text/plain": [
       "<matplotlib.axes._subplots.AxesSubplot at 0x1a2193fac8>"
      ]
     },
     "execution_count": 14,
     "metadata": {},
     "output_type": "execute_result"
    },
    {
     "data": {
      "image/png": "[encoded data removed]",
      "text/plain": [
       "<Figure size 432x288 with 1 Axes>"
      ]
     },
     "metadata": {
      "needs_background": "light"
     },
     "output_type": "display_data"
    }
   ],
   "source": [
    "ax = test_2_1.plot(y = 'weeklySales', x = 'date', label = 'test data')\n",
    "test_2_1.plot(y = 'RF1_Pred', x = 'date', label = 'pred result',ax=ax)"
   ]
  },
  {
   "cell_type": "markdown",
   "metadata": {},
   "source": [
    "## Method 2-2"
   ]
  },
  {
   "cell_type": "code",
   "execution_count": 15,
   "metadata": {},
   "outputs": [],
   "source": [
    "train_2_2 = full_data.loc[full_data.fold == 'train', :]\n",
    "test_2_2 = full_data.loc[full_data.fold == 'test', :]\n",
    "\n",
    "train_2_2_x = train_2_2.iloc[:,-5:].dropna()\n",
    "train_2_2_y = train_2_2.iloc[52:,1]"
   ]
  },
  {
   "cell_type": "code",
   "execution_count": 16,
   "metadata": {},
   "outputs": [
    {
     "data": {
      "text/plain": [
       "RandomForestRegressor(bootstrap=True, criterion='mse', max_depth=2,\n",
       "           max_features='auto', max_leaf_nodes=None,\n",
       "           min_impurity_decrease=0.0, min_impurity_split=None,\n",
       "           min_samples_leaf=1, min_samples_split=2,\n",
       "           min_weight_fraction_leaf=0.0, n_estimators=100, n_jobs=None,\n",
       "           oob_score=False, random_state=0, verbose=0, warm_start=False)"
      ]
     },
     "execution_count": 16,
     "metadata": {},
     "output_type": "execute_result"
    }
   ],
   "source": [
    "q2_2 = RandomForestRegressor(max_depth=2, random_state=0,\n",
    "                             n_estimators=100)\n",
    "q2_2.fit(train_2_2_x,train_2_2_y)"
   ]
  },
  {
   "cell_type": "code",
   "execution_count": 17,
   "metadata": {},
   "outputs": [
    {
     "name": "stderr",
     "output_type": "stream",
     "text": [
      "/Users/ryanhuang/.conda/envs/untitled/lib/python3.6/site-packages/ipykernel_launcher.py:1: SettingWithCopyWarning: \n",
      "A value is trying to be set on a copy of a slice from a DataFrame.\n",
      "Try using .loc[row_indexer,col_indexer] = value instead\n",
      "\n",
      "See the caveats in the documentation: http://pandas.pydata.org/pandas-docs/stable/indexing.html#indexing-view-versus-copy\n",
      "  \"\"\"Entry point for launching an IPython kernel.\n"
     ]
    }
   ],
   "source": [
    "test_2_2['RF2_Pred'] = q2_2.predict(test_2_2.iloc[:,-5:])"
   ]
  },
  {
   "cell_type": "code",
   "execution_count": 18,
   "metadata": {},
   "outputs": [
    {
     "name": "stdout",
     "output_type": "stream",
     "text": [
      "MAPE of method 2-2 is 3.82\n"
     ]
    }
   ],
   "source": [
    "print(\"MAPE of method 2-2 is {:.2f}\".format(MAPE(test_2_2.weeklySales, test_2_2.RF2_Pred)))"
   ]
  },
  {
   "cell_type": "code",
   "execution_count": 19,
   "metadata": {},
   "outputs": [
    {
     "data": {
      "text/plain": [
       "<matplotlib.axes._subplots.AxesSubplot at 0x1a21abe978>"
      ]
     },
     "execution_count": 19,
     "metadata": {},
     "output_type": "execute_result"
    },
    {
     "data": {
      "image/png": "[encoded data removed]",
      "text/plain": [
       "<Figure size 432x288 with 1 Axes>"
      ]
     },
     "metadata": {
      "needs_background": "light"
     },
     "output_type": "display_data"
    }
   ],
   "source": [
    "ax = test_2_2.plot(y = 'weeklySales', x = 'date', label = 'test data')\n",
    "test_2_2.plot(y = 'RF2_Pred', x = 'date', label = 'pred result',ax=ax)"
   ]
  },
  {
   "cell_type": "markdown",
   "metadata": {},
   "source": [
    "# Question 3 [Gaussian Process Regression]"
   ]
  },
  {
   "cell_type": "code",
   "execution_count": 20,
   "metadata": {},
   "outputs": [],
   "source": [
    "from sklearn.gaussian_process import GaussianProcessRegressor\n",
    "from sklearn.gaussian_process.kernels import RBF, ExpSineSquared, WhiteKernel"
   ]
  },
  {
   "cell_type": "markdown",
   "metadata": {},
   "source": [
    "### Change the Kernel here"
   ]
  },
  {
   "cell_type": "code",
   "execution_count": 21,
   "metadata": {},
   "outputs": [],
   "source": [
    "q3_full = pd.concat([dep2train,dep2test],ignore_index=True).iloc[:,[1,2]]\n",
    "q3_full = q3_full.reset_index()\n",
    "q3_train = q3_full.loc[q3_full.fold == 'train',:]\n",
    "q3_test = q3_full.loc[q3_full.fold == 'test',:]\n",
    "q3_test = q3_test.reset_index()"
   ]
  },
  {
   "cell_type": "markdown",
   "metadata": {},
   "source": [
    "### Q3-1 Normalize the weekly sales using training data"
   ]
  },
  {
   "cell_type": "code",
   "execution_count": 55,
   "metadata": {},
   "outputs": [],
   "source": [
    "k1 = 1 * RBF(length_scale=5, length_scale_bounds=(1,50))\n",
    "k2 = 1 * ExpSineSquared(length_scale=1,periodicity=55,periodicity_bounds=(50, 100))\n",
    "k3 = 1 * WhiteKernel(noise_level_bounds=(1e-05, 10))"
   ]
  },
  {
   "cell_type": "code",
   "execution_count": 56,
   "metadata": {},
   "outputs": [
    {
     "data": {
      "text/plain": [
       "GaussianProcessRegressor(alpha=1e-10, copy_X_train=True,\n",
       "             kernel=1**2 * RBF(length_scale=5) + 1**2 * ExpSineSquared(length_scale=1, periodicity=55) + 1**2 * WhiteKernel(noise_level=1),\n",
       "             n_restarts_optimizer=9, normalize_y=True,\n",
       "             optimizer='fmin_l_bfgs_b', random_state=None)"
      ]
     },
     "execution_count": 56,
     "metadata": {},
     "output_type": "execute_result"
    }
   ],
   "source": [
    "kernel = k1 + k2 + k3\n",
    "gp_3_1 = GaussianProcessRegressor(kernel=kernel, n_restarts_optimizer=9, normalize_y=True)\n",
    "gp_3_1.fit(q3_train.index.values.reshape(-1,1), q3_train.weeklySales.values.reshape(-1,1))"
   ]
  },
  {
   "cell_type": "code",
   "execution_count": 57,
   "metadata": {},
   "outputs": [],
   "source": [
    "q3_test['pred_3_1'] = gp_3_1.predict(q3_test.loc[:,'index'].values.reshape(-1,1))"
   ]
  },
  {
   "cell_type": "code",
   "execution_count": 58,
   "metadata": {},
   "outputs": [
    {
     "name": "stdout",
     "output_type": "stream",
     "text": [
      "MAPE of method 3-1 is 6.66\n"
     ]
    }
   ],
   "source": [
    "print(\"MAPE of method 3-1 is {:.2f}\".format(MAPE(y_true=q3_test.weeklySales, y_pred=q3_test.pred_3_1)))"
   ]
  },
  {
   "cell_type": "code",
   "execution_count": 59,
   "metadata": {},
   "outputs": [
    {
     "data": {
      "text/plain": [
       "<matplotlib.axes._subplots.AxesSubplot at 0x1a23305828>"
      ]
     },
     "execution_count": 59,
     "metadata": {},
     "output_type": "execute_result"
    },
    {
     "data": {
      "image/png": "[encoded data removed]",
      "text/plain": [
       "<Figure size 432x288 with 1 Axes>"
      ]
     },
     "metadata": {
      "needs_background": "light"
     },
     "output_type": "display_data"
    }
   ],
   "source": [
    "ax = q3_test.plot(x='index', y='weeklySales')\n",
    "q3_test.plot(x='index', y='pred_3_1', ax=ax)"
   ]
  },
  {
   "cell_type": "code",
   "execution_count": 60,
   "metadata": {},
   "outputs": [
    {
     "data": {
      "text/plain": [
       "316**2 * RBF(length_scale=2.34) + 316**2 * ExpSineSquared(length_scale=1.08e-05, periodicity=50) + 316**2 * WhiteKernel(noise_level=10)"
      ]
     },
     "execution_count": 60,
     "metadata": {},
     "output_type": "execute_result"
    }
   ],
   "source": [
    "gp_3_1.kernel_"
   ]
  },
  {
   "cell_type": "markdown",
   "metadata": {},
   "source": [
    "### Q3-2 Don't normalize"
   ]
  },
  {
   "cell_type": "code",
   "execution_count": 28,
   "metadata": {},
   "outputs": [],
   "source": [
    "k1 = 1 * RBF(length_scale=5, length_scale_bounds=(1,50))\n",
    "k2 = 1 * RBF() * ExpSineSquared(length_scale=1,periodicity=50,periodicity_bounds=(50, 100))\n",
    "k3 = 1 * WhiteKernel(noise_level_bounds=(1e-05, 10))"
   ]
  },
  {
   "cell_type": "code",
   "execution_count": 29,
   "metadata": {},
   "outputs": [
    {
     "data": {
      "text/plain": [
       "GaussianProcessRegressor(alpha=1e-10, copy_X_train=True,\n",
       "             kernel=1**2 * RBF(length_scale=5) + 1**2 * RBF(length_scale=1) * ExpSineSquared(length_scale=1, periodicity=50) + 1**2 * WhiteKernel(noise_level=1),\n",
       "             n_restarts_optimizer=9, normalize_y=False,\n",
       "             optimizer='fmin_l_bfgs_b', random_state=None)"
      ]
     },
     "execution_count": 29,
     "metadata": {},
     "output_type": "execute_result"
    }
   ],
   "source": [
    "kernel2 = k1 + k2 + k3\n",
    "gp_3_2 = GaussianProcessRegressor(kernel=kernel, n_restarts_optimizer=9, normalize_y=False)\n",
    "gp_3_2.fit(q3_train.index.values.reshape(-1,1), q3_train.weeklySales.values.reshape(-1,1))"
   ]
  },
  {
   "cell_type": "code",
   "execution_count": 30,
   "metadata": {},
   "outputs": [],
   "source": [
    "q3_test['pred_3_2'] = gp_3_2.predict(q3_test.loc[:,'index'].values.reshape(-1,1))"
   ]
  },
  {
   "cell_type": "code",
   "execution_count": 31,
   "metadata": {},
   "outputs": [
    {
     "name": "stdout",
     "output_type": "stream",
     "text": [
      "MAPE of method 3-2 is 22.30\n"
     ]
    }
   ],
   "source": [
    "print(\"MAPE of method 3-2 is {:.2f}\".format(MAPE(q3_test.weeklySales, q3_test.pred_3_2)))"
   ]
  },
  {
   "cell_type": "code",
   "execution_count": 32,
   "metadata": {},
   "outputs": [
    {
     "data": {
      "text/plain": [
       "<matplotlib.axes._subplots.AxesSubplot at 0x1a21d38320>"
      ]
     },
     "execution_count": 32,
     "metadata": {},
     "output_type": "execute_result"
    },
    {
     "data": {
      "image/png": "[encoded data removed]",
      "text/plain": [
       "<Figure size 432x288 with 1 Axes>"
      ]
     },
     "metadata": {
      "needs_background": "light"
     },
     "output_type": "display_data"
    }
   ],
   "source": [
    "ax = q3_test.plot(x='index', y='weeklySales')\n",
    "q3_test.plot(x='index', y='pred_3_2', ax=ax)"
   ]
  },
  {
   "cell_type": "code",
   "execution_count": 33,
   "metadata": {},
   "outputs": [
    {
     "data": {
      "text/plain": [
       "316**2 * RBF(length_scale=50) + 316**2 * RBF(length_scale=1e+05) * ExpSineSquared(length_scale=1e+05, periodicity=100) + 316**2 * WhiteKernel(noise_level=10)"
      ]
     },
     "execution_count": 33,
     "metadata": {},
     "output_type": "execute_result"
    }
   ],
   "source": [
    "gp_3_2.kernel_"
   ]
  },
  {
   "cell_type": "markdown",
   "metadata": {},
   "source": [
    "### Q3-3 Use Normalized model to perform \"Expanding Window\" prediction"
   ]
  },
  {
   "cell_type": "code",
   "execution_count": 34,
   "metadata": {},
   "outputs": [
    {
     "data": {
      "text/plain": [
       "GaussianProcessRegressor(alpha=1e-10, copy_X_train=True,\n",
       "             kernel=1**2 * RBF(length_scale=5) + 1**2 * RBF(length_scale=1) * ExpSineSquared(length_scale=1, periodicity=50) + 1**2 * WhiteKernel(noise_level=1),\n",
       "             n_restarts_optimizer=9, normalize_y=True,\n",
       "             optimizer='fmin_l_bfgs_b', random_state=None)"
      ]
     },
     "execution_count": 34,
     "metadata": {},
     "output_type": "execute_result"
    }
   ],
   "source": [
    "gp_3_3 = GaussianProcessRegressor(kernel=kernel, n_restarts_optimizer=9, normalize_y=True)\n",
    "gp_3_3.fit(q3_train.index.values.reshape(-1,1), q3_train.weeklySales.values.reshape(-1,1))"
   ]
  },
  {
   "cell_type": "code",
   "execution_count": 35,
   "metadata": {},
   "outputs": [],
   "source": [
    "pred = []\n",
    "for i in range(91,143):\n",
    "    gp_3_3_p = GaussianProcessRegressor(kernel=gp_3_3.kernel_, optimizer=None, normalize_y=True)\n",
    "    gp_3_3_p.fit(q3_full.iloc[:i,:].loc[:,'index'].values.reshape(-1,1), \n",
    "                 q3_full.iloc[:i,:].loc[:,'weeklySales'].values.reshape(-1,1))\n",
    "    pred.append(gp_3_3_p.predict(q3_full.iloc[i,:]['index'].reshape(-1,1))[0][0])\n",
    "q3_test['pred_3_3'] = pred"
   ]
  },
  {
   "cell_type": "code",
   "execution_count": 36,
   "metadata": {},
   "outputs": [
    {
     "name": "stdout",
     "output_type": "stream",
     "text": [
      "MAPE of method 3-3 is 6.02\n"
     ]
    }
   ],
   "source": [
    "print(\"MAPE of method 3-3 is {:.2f}\".format(MAPE(q3_test.weeklySales, q3_test.pred_3_3)))"
   ]
  },
  {
   "cell_type": "code",
   "execution_count": 37,
   "metadata": {},
   "outputs": [
    {
     "data": {
      "text/plain": [
       "<matplotlib.axes._subplots.AxesSubplot at 0x1a2278c828>"
      ]
     },
     "execution_count": 37,
     "metadata": {},
     "output_type": "execute_result"
    },
    {
     "data": {
      "image/png": "[encoded data removed]",
      "text/plain": [
       "<Figure size 432x288 with 1 Axes>"
      ]
     },
     "metadata": {
      "needs_background": "light"
     },
     "output_type": "display_data"
    }
   ],
   "source": [
    "ax = q3_test.plot(x='index', y='weeklySales')\n",
    "q3_test.plot(x='index', y='pred_3_3', ax=ax)"
   ]
  },
  {
   "cell_type": "code",
   "execution_count": null,
   "metadata": {},
   "outputs": [],
   "source": []
  }
 ],
 "metadata": {
  "kernelspec": {
   "display_name": "Python 3",
   "language": "python",
   "name": "python3"
  },
  "language_info": {
   "codemirror_mode": {
    "name": "ipython",
    "version": 3
   },
   "file_extension": ".py",
   "mimetype": "text/x-python",
   "name": "python",
   "nbconvert_exporter": "python",
   "pygments_lexer": "ipython3",
   "version": "3.6.8"
  }
 },
 "nbformat": 4,
 "nbformat_minor": 2
}
