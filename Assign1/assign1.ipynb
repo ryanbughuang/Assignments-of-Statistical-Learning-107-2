{
 "cells": [
  {
   "cell_type": "code",
   "execution_count": 1,
   "metadata": {},
   "outputs": [
    {
     "data": {
      "text/plain": [
       "'Q1-1:Creat a Python class named myknn_regressor that can do predictions given training data and hyper-parameters. It should take the k\\n  as the hyper-parameter for the number of neighbors. Moreover, the user can select f by passing \"equal_weight\" or \"remove_outliers\" \\n  to switch between the two possible cases for  f'"
      ]
     },
     "execution_count": 1,
     "metadata": {},
     "output_type": "execute_result"
    }
   ],
   "source": [
    "'''Q1-1:Creat a Python class named myknn_regressor that can do predictions given training data and hyper-parameters. It should take the k\n",
    "  as the hyper-parameter for the number of neighbors. Moreover, the user can select f by passing \"equal_weight\" or \"remove_outliers\" \n",
    "  to switch between the two possible cases for  f'''"
   ]
  },
  {
   "cell_type": "code",
   "execution_count": 11,
   "metadata": {},
   "outputs": [],
   "source": [
    "import numpy as np\n",
    "class myknn_regressor:\n",
    "    def __init__(self, k, method):\n",
    "        self.k = k\n",
    "        self.method = method\n",
    "\n",
    "    def fit(self, X_train, Y_train):\n",
    "        self.X_train = X_train\n",
    "        self.Y_train = Y_train\n",
    "\n",
    "    def predict(self, X_test):\n",
    "        # calculate the distance of 1 test obsevation and the whole train observation\n",
    "        def dist(x_test, x_train):\n",
    "            return ((x_train - x_test) ** 2).sum(axis=1) ** 0.5\n",
    "            # return (np.linalg.norm(x_train - x_test, axis=1))\n",
    "        prediction = []\n",
    "        if (self.method == 'remove_outliers') & (self.k >= 10):\n",
    "            for x in X_test:\n",
    "                y_index = np.argpartition(dist(x, self.X_train), self.k)[:self.k]\n",
    "                y_list = self.Y_train[y_index]\n",
    "                q1, q3 = np.percentile(y_list, [25, 75])\n",
    "                iqr = q3 - q1\n",
    "                predict_y = y_list[(y_list >= (q1 - 1.5 * iqr)) & (y_list <= (q3 + 1.5 * iqr))].mean()\n",
    "                prediction.append(predict_y)\n",
    "\n",
    "        else:\n",
    "            for x in X_test:\n",
    "                y_index = np.argpartition(dist(x, self.X_train), self.k)[:self.k]\n",
    "                predict_y = self.Y_train[y_index].mean()\n",
    "                prediction.append(predict_y)\n",
    "\n",
    "        return np.array(prediction)"
   ]
  },
  {
   "cell_type": "code",
   "execution_count": 2,
   "metadata": {},
   "outputs": [
    {
     "data": {
      "text/plain": [
       "'Q1_2\\nLoad data from msd_data1.pickle. \\nThen, standardized all feature values so that all features have a zero mean and a unit variance before training a KNN model.\\nMake predictions using  k=20 and \"equal_weight\". \\nList the RMSE and the first 20 predictions in the testing data'"
      ]
     },
     "execution_count": 2,
     "metadata": {},
     "output_type": "execute_result"
    }
   ],
   "source": [
    "'''Q1_2\n",
    "Load data from msd_data1.pickle. \n",
    "Then, standardized all feature values so that all features have a zero mean and a unit variance before training a KNN model.\n",
    "Make predictions using  k=20 and \"equal_weight\". \n",
    "List the RMSE and the first 20 predictions in the testing data'''"
   ]
  },
  {
   "cell_type": "code",
   "execution_count": 13,
   "metadata": {},
   "outputs": [],
   "source": [
    "import pickle\n",
    "import math\n",
    "file_path = '/Users/ryanhuang/Desktop/107-2/statistical learning/week1/question/msd_data1.pickle'\n",
    "fh = open(file_path, 'rb')\n",
    "data = pickle.load(fh)\n",
    "def RMSE(predict_value, actual_value):\n",
    "    return math.sqrt(sum((predict_value - actual_value) ** 2)/len(predict_value))"
   ]
  },
  {
   "cell_type": "code",
   "execution_count": 14,
   "metadata": {},
   "outputs": [
    {
     "name": "stdout",
     "output_type": "stream",
     "text": [
      "RMSE = 7.651707325819516 \n",
      "Predictions = [1995.45 1994.55 2002.05 1995.2  2000.3  2000.3  1999.4  1996.5  1999.95\n",
      " 2001.45 2004.55 2003.45 1999.55 1996.55 1990.65 1997.45 1993.7  1999.55\n",
      " 2000.75 1983.8 ]\n"
     ]
    }
   ],
   "source": [
    "myknn = myknn_regressor(20, \"equal_weight\")\n",
    "myknn.fit(data['X_train'],data['Y_train'] )\n",
    "y_pred = myknn.predict(data['X_test'][:20])\n",
    "y_actual = data['Y_test'][:20]\n",
    "print('RMSE =',RMSE(y_pred,y_actual),'\\nPredictions =',y_pred)"
   ]
  },
  {
   "cell_type": "code",
   "execution_count": 5,
   "metadata": {},
   "outputs": [
    {
     "data": {
      "text/plain": [
       "'Q1_3 \\nLoad data from msd_data1.pickle. \\nStandardized all feature values so that all features have a zero mean and unit variance. \\nMake predictions using k=20 and \"remove_outier\". \\nList the RMSE and the first 20 predictions in the testing data.'"
      ]
     },
     "execution_count": 5,
     "metadata": {},
     "output_type": "execute_result"
    }
   ],
   "source": [
    "'''Q1_3 \n",
    "Load data from msd_data1.pickle. \n",
    "Standardized all feature values so that all features have a zero mean and unit variance. \n",
    "Make predictions using k=20 and \"remove_outier\". \n",
    "List the RMSE and the first 20 predictions in the testing data.'''\n"
   ]
  },
  {
   "cell_type": "code",
   "execution_count": 15,
   "metadata": {},
   "outputs": [
    {
     "name": "stdout",
     "output_type": "stream",
     "text": [
      "RMSE = 7.077463667957082 \n",
      "Predictions = [1992.9        1994.05       2000.05       1992.73684211 1992.8\n",
      " 2000.         1987.1        1990.9        2001.8        2003.94736842\n",
      " 2001.15       2000.94444444 1995.55       1997.2        1998.61111111\n",
      " 1997.35       1992.15       2004.23529412 2003.6        1995.75      ]\n"
     ]
    }
   ],
   "source": [
    "std_x_train = (data['X_train'] - data['X_train'].mean(0))/data['X_train'].std(0)\n",
    "y_train = data['Y_train']\n",
    "std_x_test = (data['X_test'] - data['X_test'].mean(0))/data['X_test'].std(0)\n",
    "myknn_2 = myknn_regressor(20, \"remove_outliers\")\n",
    "myknn_2.fit(std_x_train,y_train)\n",
    "y_pred_2 = myknn_2.predict(std_x_test[:20])\n",
    "y_actual_2 = data['Y_test'][:20]\n",
    "print('RMSE =',RMSE(y_pred_2,y_actual_2),'\\nPredictions =',y_pred_2)"
   ]
  },
  {
   "cell_type": "code",
   "execution_count": 8,
   "metadata": {},
   "outputs": [
    {
     "data": {
      "text/plain": [
       "'\\nCompute the RMSE on the testing dataset under 3 cases using k=1,2,3,4,5,10,15,20,25,30,35,40,45,50,55,60,80,100,120,140,160,180,200. \\nIn the first case, all feature values are standardize to have unit variances and zero means. \\nIn the second case, do not apply feature scaling. \\nIn the third case use standardized feature and adopted myknn_regressor with \"remove_outlier\" to make prediction.\\n'"
      ]
     },
     "execution_count": 8,
     "metadata": {},
     "output_type": "execute_result"
    }
   ],
   "source": [
    "'''\n",
    "Compute the RMSE on the testing dataset under 3 cases using k=1,2,3,4,5,10,15,20,25,30,35,40,45,50,55,60,80,100,120,140,160,180,200. \n",
    "In the first case, all feature values are standardize to have unit variances and zero means. \n",
    "In the second case, do not apply feature scaling. \n",
    "In the third case use standardized feature and adopted myknn_regressor with \"remove_outlier\" to make prediction.\n",
    "'''"
   ]
  },
  {
   "cell_type": "code",
   "execution_count": 16,
   "metadata": {},
   "outputs": [],
   "source": [
    "from sklearn.neighbors import KNeighborsRegressor\n",
    "k_list = [1,2,3,4,5,10,15,20,25,30,35,40,45,50,55,60,80,100,120,140,160,180,200]\n",
    "\n",
    "case1_summary = []\n",
    "for k in k_list:\n",
    "    knn_case1 = KNeighborsRegressor(n_neighbors=k)\n",
    "    knn_case1.fit(std_x_train,y_train)\n",
    "    y_pred = knn_case1.predict(std_x_test)\n",
    "    case1_summary.append(RMSE(y_pred, data['Y_test']))\n",
    "\n",
    "case2_summary = []\n",
    "for k in k_list:\n",
    "    knn_case2 = KNeighborsRegressor(n_neighbors=k)\n",
    "    knn_case2.fit(data['X_train'],data['Y_train'])\n",
    "    y_pred = knn_case2.predict(data['X_test'])\n",
    "    case2_summary.append(RMSE(y_pred, data['Y_test']))\n",
    "case3_summary = []\n",
    "for k in k_list:\n",
    "    knn_case3 = myknn_regressor(k,'remove_outlier')\n",
    "    knn_case3.fit(std_x_train, y_train)\n",
    "    y_pred = knn_case3.predict(std_x_test)\n",
    "    case3_summary.append(RMSE(y_pred, data['Y_test']))"
   ]
  },
  {
   "cell_type": "code",
   "execution_count": null,
   "metadata": {},
   "outputs": [],
   "source": [
    "# plot a curve that shows the relations between k (x-axis) and RMSE (y-axis)"
   ]
  },
  {
   "cell_type": "code",
   "execution_count": 17,
   "metadata": {},
   "outputs": [
    {
     "data": {
      "image/png": "[encoded data removed]",
      "text/plain": [
       "<matplotlib.figure.Figure at 0x1a1dff6240>"
      ]
     },
     "metadata": {
      "needs_background": "light"
     },
     "output_type": "display_data"
    }
   ],
   "source": [
    "import matplotlib.pyplot as plt\n",
    "plt.figure()\n",
    "plt.plot(k_list,case1_summary,color='red', linewidth=1.0, linestyle='--', label='case1')\n",
    "plt.plot(k_list,case2_summary,color='green', linewidth=1.0, linestyle='--', label='case2')\n",
    "plt.plot(k_list,case3_summary,color='blue', linewidth=1.2, linestyle=':', label='case3')\n",
    "plt.legend(loc='upper right')\n",
    "plt.xlabel('Value of K')\n",
    "plt.ylabel('RMSE')\n",
    "plt.show()"
   ]
  },
  {
   "cell_type": "code",
   "execution_count": null,
   "metadata": {},
   "outputs": [],
   "source": [
    "# From the above 3 curves, we can notice that:\n",
    "# 1) Standardized the features improves the RMSE a lot.\n",
    "# 2) The 'remove_outlier' case is very similar to the conventional approach, meaning that there aren't many outliers in the test data.\n",
    "# 3) The K resulting the minimum RMSE is K = 45 for case 1 and 3, and that for case 2 is K = 80\n",
    "# 4) Overall the predictions are not bad"
   ]
  }
 ],
 "metadata": {
  "kernelspec": {
   "display_name": "Python 3",
   "language": "python",
   "name": "python3"
  },
  "language_info": {
   "codemirror_mode": {
    "name": "ipython",
    "version": 3
   },
   "file_extension": ".py",
   "mimetype": "text/x-python",
   "name": "python",
   "nbconvert_exporter": "python",
   "pygments_lexer": "ipython3",
   "version": "3.6.8"
  }
 },
 "nbformat": 4,
 "nbformat_minor": 2
}
